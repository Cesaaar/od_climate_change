{
 "cells": [
  {
   "cell_type": "markdown",
   "metadata": {},
   "source": [
    "# Cambiamento Climatico\n",
    "\n",
    "Fonti:\n",
    "\n",
    "1. Osservatorio Mauna Loa, Hawaii (NOAA-ESRL) https://www.esrl.noaa.gov/gmd/ccgg/trends/data.html"
   ]
  },
  {
   "cell_type": "markdown",
   "metadata": {},
   "source": [
    "### 1. Ultimo valore di concentrazione Anidrire Carbonica (CO2)\n",
    "\n",
    "Unità di misura: in ppm\n",
    "\n",
    "Fonte: Osservatorio Mauna Loa, Hawaii (NOAA-ESRL)"
   ]
  },
  {
   "cell_type": "code",
   "execution_count": 12,
   "metadata": {
    "collapsed": true
   },
   "outputs": [],
   "source": [
    "# Import Librerie\n",
    "import pandas as pd"
   ]
  },
  {
   "cell_type": "code",
   "execution_count": 65,
   "metadata": {
    "collapsed": false
   },
   "outputs": [],
   "source": [
    "def last_value():\n",
    "    #Leggo il file messo a disposizione da Mauna Loa\n",
    "    url=\"ftp://aftp.cmdl.noaa.gov/products/trends/co2/co2_mm_mlo.txt\"\n",
    "    columns = ['Anno','Mese','Data Decimale','Media CO2','Interpolato','Trend','#days']\n",
    "    co2_mese = pd.read_csv(url,comment='#',sep = '\\s+', names=columns)\n",
    "    # Seleziono Ultimo Valore\n",
    "    last_co2 = co2_mese.iloc[-1:]['Media CO2'].values[0]\n",
    "    last_anno = co2_mese.iloc[-1:]['Anno'].values[0]\n",
    "    last_mese = co2_mese.iloc[-1:]['Mese'].values[0]\n",
    "    print('Valore Medio: {} ppm\\n Anno : {}\\n Mese : {}'.format(last_co2, last_anno, last_mese))\n",
    "    return last_co2"
   ]
  },
  {
   "cell_type": "code",
   "execution_count": 66,
   "metadata": {
    "collapsed": false
   },
   "outputs": [
    {
     "name": "stdout",
     "output_type": "stream",
     "text": [
      "Valore Medio: 408.84 ppm\n",
      " Anno : 2017\n",
      " Mese : 6\n"
     ]
    }
   ],
   "source": [
    "last_co2 = last_value()"
   ]
  }
 ],
 "metadata": {
  "kernelspec": {
   "display_name": "Python [Root]",
   "language": "python",
   "name": "Python [Root]"
  },
  "language_info": {
   "codemirror_mode": {
    "name": "ipython",
    "version": 2
   },
   "file_extension": ".py",
   "mimetype": "text/x-python",
   "name": "python",
   "nbconvert_exporter": "python",
   "pygments_lexer": "ipython2",
   "version": "2.7.12"
  }
 },
 "nbformat": 4,
 "nbformat_minor": 0
}
