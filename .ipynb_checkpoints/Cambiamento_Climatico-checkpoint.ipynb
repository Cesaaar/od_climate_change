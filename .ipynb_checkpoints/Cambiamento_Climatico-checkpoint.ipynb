{
 "cells": [
  {
   "cell_type": "markdown",
   "metadata": {},
   "source": [
    "# Cambiamento Climatico\n",
    "\n",
    "Fonti:\n",
    "\n",
    "1. Osservatorio Mauna Loa, Hawaii (NOAA-ESRL) https://www.esrl.noaa.gov/gmd/ccgg/trends/data.html\n"
   ]
  },
  {
   "cell_type": "markdown",
   "metadata": {},
   "source": [
    "### 1. Ultimo valore di concentrazione Anidrire Carbonica (CO2)\n",
    "Unità di misura: in ppm\n",
    "\n",
    "Fonte: Osservatorio Mauna Loa, Hawaii (NOAA-ESRL)"
   ]
  },
  {
   "cell_type": "code",
   "execution_count": 1,
   "metadata": {
    "collapsed": false
   },
   "outputs": [
    {
     "name": "stdout",
     "output_type": "stream",
     "text": [
      "Populating the interactive namespace from numpy and matplotlib\n"
     ]
    }
   ],
   "source": [
    "# Import Librerie\n",
    "import pandas as pd\n",
    "import numpy as np\n",
    "import os\n",
    "import matplotlib.pyplot as plt\n",
    "plt.style.use('ggplot')\n",
    "get_ipython().magic('pylab inline')\n",
    "\n",
    "dir_out = os.path.abspath('')"
   ]
  },
  {
   "cell_type": "code",
   "execution_count": 2,
   "metadata": {
    "collapsed": true
   },
   "outputs": [],
   "source": [
    "def last_value():\n",
    "    #Leggo il file messo a disposizione da Mauna Loa\n",
    "    url=\"ftp://aftp.cmdl.noaa.gov/products/trends/co2/co2_mm_mlo.txt\"\n",
    "    columns = ['Anno','Mese','Data Decimale','Media CO2','Interpolato','Trend','#days']\n",
    "    co2_mese = pd.read_csv(url,comment='#',sep = '\\s+', names=columns)\n",
    "    # Seleziono Ultimo Valore\n",
    "    last_co2 = co2_mese.iloc[-1:]['Media CO2'].values[0]\n",
    "    last_anno = co2_mese.iloc[-1:]['Anno'].values[0]\n",
    "    last_mese = co2_mese.iloc[-1:]['Mese'].values[0]\n",
    "    print('Ultimo Valore Medio: {} ppm\\n Anno : {}\\n Mese : {}\\n'.format(last_co2, last_anno, last_mese))\n",
    "    \n",
    "    # Seleziono Primo Valore\n",
    "    first_co2 = co2_mese.iloc[1:]['Media CO2'].values[0]\n",
    "    first_anno = co2_mese.iloc[1:]['Anno'].values[0]\n",
    "    first_mese = co2_mese.iloc[1:]['Mese'].values[0]\n",
    "    print('Primo Valore Medio: {} ppm\\n Anno : {}\\n Mese : {}'.format(first_co2, first_anno, first_mese))"
   ]
  },
  {
   "cell_type": "code",
   "execution_count": 3,
   "metadata": {
    "collapsed": false
   },
   "outputs": [
    {
     "name": "stdout",
     "output_type": "stream",
     "text": [
      "Ultimo Valore Medio: 407.07 ppm\n",
      " Anno : 2017\n",
      " Mese : 7\n",
      "\n",
      "Primo Valore Medio: 317.45 ppm\n",
      " Anno : 1958\n",
      " Mese : 4\n"
     ]
    }
   ],
   "source": [
    "last_value()"
   ]
  },
  {
   "cell_type": "markdown",
   "metadata": {},
   "source": [
    "### 2. Trend annuale di concentrazione Anidrire Carbonica (CO2)\n",
    "\n",
    "Unità di misura: in ppm\n",
    "\n",
    "Fonte: Osservatorio Mauna Loa, Hawaii (NOAA-ESRL)"
   ]
  },
  {
   "cell_type": "code",
   "execution_count": null,
   "metadata": {
    "collapsed": true
   },
   "outputs": [],
   "source": [
    "def trend():\n",
    "    #Leggo il file messo a disposizione da Mauna Loa\n",
    "    url=\"ftp://aftp.cmdl.noaa.gov/products/trends/co2/co2_annmean_mlo.txt\"\n",
    "    columns = ['Anno','Media CO2','unc']\n",
    "    co2_anno = pd.read_csv(url,comment='#',sep = '\\s+', names=columns)\n",
    "    del co2_anno['unc']\n",
    "    co2_anno = co2_anno.set_index(['Anno'])\n",
    "    \n",
    "    #Grafico\n",
    "    tp = co2_anno.plot(kind='line',\n",
    "               legend = False)\n",
    "    tp.set_xlabel(\"\")\n",
    "    tp.set_ylabel(\"Trend Concentrazione CO2 (ppm)\")\n",
    "    fig_posts = tp.get_figure()\n",
    "    fig_posts.tight_layout()\n",
    "    fig_posts.savefig(os.path.join(dir_out,'trend_co2.png'), format='png', dpi=1000)"
   ]
  },
  {
   "cell_type": "code",
   "execution_count": null,
   "metadata": {
    "collapsed": true
   },
   "outputs": [],
   "source": [
    "trend()"
   ]
  },
  {
   "cell_type": "markdown",
   "metadata": {},
   "source": [
    "### 3. Incremento temperatura terrestre\n",
    "https://data.giss.nasa.gov/gistemp/tabledata_v3/ZonAnn.Ts+dSST.txt\n",
    "\n",
    "I dati misurano i cambiamenti della temperatura terrestre rispetto la temperatura media in 0.01 gradi Celsius.\n",
    "\n",
    "Es. Nel 2016 si è registrato un incremento di 1° grado rispetto la temperatura media del periodo 1950-1980"
   ]
  },
  {
   "cell_type": "code",
   "execution_count": null,
   "metadata": {
    "collapsed": true
   },
   "outputs": [],
   "source": [
    "#Leggo il file messo a disposizione dal NOAA\n",
    "url=\"https://data.giss.nasa.gov/gistemp/tabledata_v3/ZonAnn.Ts+dSST.txt\"\n",
    "temp = pd.read_csv(url, sep = '\\n', header=-1)\n",
    "global_temp = pd.read_csv(url, skiprows=8, nrows=21,sep = '\\s+', header=0)\n",
    "global_temp1 = pd.read_csv(url, skiprows=32, nrows=20,sep = '\\s+', header=0)\n",
    "global_temp2 = pd.read_csv(url, skiprows=55, nrows=20,sep = '\\s+', header=0)\n",
    "global_temp3 = pd.read_csv(url, skiprows=78, nrows=20,sep = '\\s+', header=0)\n",
    "global_temp4 = pd.read_csv(url, skiprows=101, nrows=20,sep = '\\s+', header=0)\n",
    "global_temp5 = pd.read_csv(url, skiprows=124, nrows=20,sep = '\\s+', header=0)\n",
    "global_temp6 = pd.read_csv(url, skiprows=147, nrows=16,sep = '\\s+', header=0)\n",
    "global_temp = global_temp.append(global_temp1).append(global_temp2).append(global_temp3).append(global_temp4).append(global_temp5).append(global_temp6)"
   ]
  },
  {
   "cell_type": "code",
   "execution_count": null,
   "metadata": {
    "collapsed": true
   },
   "outputs": [],
   "source": [
    "global_temp = global_temp.filter(items=['Year', 'Glob'])\n",
    "global_temp = global_temp.set_index(['Year'])"
   ]
  },
  {
   "cell_type": "code",
   "execution_count": null,
   "metadata": {
    "collapsed": true
   },
   "outputs": [],
   "source": [
    "global_temp['Glob_C'] = global_temp['Glob']*0.01 \n",
    "del global_temp['Glob']"
   ]
  },
  {
   "cell_type": "code",
   "execution_count": null,
   "metadata": {
    "collapsed": true
   },
   "outputs": [],
   "source": [
    "#Grafico\n",
    "tp = global_temp.plot(kind='line',\n",
    "               legend = False)\n",
    "tp.set_xlabel(\"\")\n",
    "tp.set_ylabel(\"Trend Temperatura Terrestre (C°)\")\n",
    "tp.axhline(0, color='k')\n",
    "fig_posts = tp.get_figure()\n",
    "fig_posts.tight_layout()\n",
    "fig_posts.savefig(os.path.join(dir_out,'trend_temp.png'), format='png', dpi=1000)"
   ]
  },
  {
   "cell_type": "markdown",
   "metadata": {},
   "source": [
    "### 4. Emissioni di CO2 per Paese\n",
    "\n",
    "http://cdiac.ornl.gov/ftp/ndp030/CSV-FILES/nation.1751_2014.csv\n",
    "\n",
    "UNITS\n",
    "\n",
    "Mt C = million tonnes of Carbon\n",
    "\n",
    "MtCO2 = 1 million tonnes of CO2\n",
    "\n",
    "To convert between carbon dioxide (CO2) and carbon (C): 3.67 Mt CO2 = 1 Mt C. "
   ]
  },
  {
   "cell_type": "code",
   "execution_count": 22,
   "metadata": {
    "collapsed": true
   },
   "outputs": [],
   "source": [
    "cdiac = pd.read_csv(\n",
    "    \"http://cdiac.ornl.gov/ftp/ndp030/CSV-FILES/nation.1751_2014.csv\",\n",
    "    skiprows=[1,2,3],\n",
    "    na_values=\".\"\n",
    ")"
   ]
  },
  {
   "cell_type": "code",
   "execution_count": 23,
   "metadata": {
    "collapsed": true
   },
   "outputs": [],
   "source": [
    "cdiac = cdiac.rename(columns={\n",
    "    'Year': \"Year\",\n",
    "    'Total CO2 emissions from fossil-fuels and cement production (thousand metric tons of C)': \"Total\",\n",
    "    'Emissions from solid fuel consumption': \"Solid-Fuel\",\n",
    "    'Emissions from liquid fuel consumption': \"Liquid-Fuel\",\n",
    "    'Emissions from gas fuel consumption': \"Gas-Fuel\",\n",
    "    'Emissions from cement production': \"Cement\",\n",
    "    'Emissions from gas flaring': \"Gas-Flaring\",\n",
    "    'Per capita CO2 emissions (metric tons of carbon)': 'Per-Capita',\n",
    "    'Emissions from bunker fuels (not included in the totals)': 'Bunkers'\n",
    "})"
   ]
  },
  {
   "cell_type": "code",
   "execution_count": 27,
   "metadata": {
    "collapsed": false
   },
   "outputs": [],
   "source": [
    "cdiac_2014 = cdiac[cdiac['Year']==2014]"
   ]
  },
  {
   "cell_type": "code",
   "execution_count": 29,
   "metadata": {
    "collapsed": false
   },
   "outputs": [],
   "source": [
    "cdiac_2014 = cdiac_2014.filter(items=['Nation', 'Total'])"
   ]
  },
  {
   "cell_type": "code",
   "execution_count": 30,
   "metadata": {
    "collapsed": false
   },
   "outputs": [
    {
     "data": {
      "text/html": [
       "<div>\n",
       "<table border=\"1\" class=\"dataframe\">\n",
       "  <thead>\n",
       "    <tr style=\"text-align: right;\">\n",
       "      <th></th>\n",
       "      <th>Total</th>\n",
       "    </tr>\n",
       "    <tr>\n",
       "      <th>Nation</th>\n",
       "      <th></th>\n",
       "    </tr>\n",
       "  </thead>\n",
       "  <tbody>\n",
       "    <tr>\n",
       "      <th>AFGHANISTAN</th>\n",
       "      <td>2675</td>\n",
       "    </tr>\n",
       "    <tr>\n",
       "      <th>ALBANIA</th>\n",
       "      <td>1559</td>\n",
       "    </tr>\n",
       "    <tr>\n",
       "      <th>ALGERIA</th>\n",
       "      <td>39651</td>\n",
       "    </tr>\n",
       "    <tr>\n",
       "      <th>ANDORRA</th>\n",
       "      <td>126</td>\n",
       "    </tr>\n",
       "    <tr>\n",
       "      <th>ANGOLA</th>\n",
       "      <td>9480</td>\n",
       "    </tr>\n",
       "    <tr>\n",
       "      <th>ANGUILLA</th>\n",
       "      <td>39</td>\n",
       "    </tr>\n",
       "    <tr>\n",
       "      <th>ANTIGUA &amp; BARBUDA</th>\n",
       "      <td>145</td>\n",
       "    </tr>\n",
       "    <tr>\n",
       "      <th>ARGENTINA</th>\n",
       "      <td>55638</td>\n",
       "    </tr>\n",
       "    <tr>\n",
       "      <th>ARMENIA</th>\n",
       "      <td>1508</td>\n",
       "    </tr>\n",
       "    <tr>\n",
       "      <th>ARUBA</th>\n",
       "      <td>238</td>\n",
       "    </tr>\n",
       "    <tr>\n",
       "      <th>AUSTRALIA</th>\n",
       "      <td>98517</td>\n",
       "    </tr>\n",
       "    <tr>\n",
       "      <th>AUSTRIA</th>\n",
       "      <td>16011</td>\n",
       "    </tr>\n",
       "    <tr>\n",
       "      <th>AZERBAIJAN</th>\n",
       "      <td>10223</td>\n",
       "    </tr>\n",
       "    <tr>\n",
       "      <th>BAHAMAS</th>\n",
       "      <td>659</td>\n",
       "    </tr>\n",
       "    <tr>\n",
       "      <th>BAHRAIN</th>\n",
       "      <td>8546</td>\n",
       "    </tr>\n",
       "    <tr>\n",
       "      <th>BANGLADESH</th>\n",
       "      <td>19959</td>\n",
       "    </tr>\n",
       "    <tr>\n",
       "      <th>BARBADOS</th>\n",
       "      <td>347</td>\n",
       "    </tr>\n",
       "    <tr>\n",
       "      <th>BELARUS</th>\n",
       "      <td>17316</td>\n",
       "    </tr>\n",
       "    <tr>\n",
       "      <th>BELGIUM</th>\n",
       "      <td>25457</td>\n",
       "    </tr>\n",
       "    <tr>\n",
       "      <th>BELIZE</th>\n",
       "      <td>135</td>\n",
       "    </tr>\n",
       "    <tr>\n",
       "      <th>BENIN</th>\n",
       "      <td>1723</td>\n",
       "    </tr>\n",
       "    <tr>\n",
       "      <th>BERMUDA</th>\n",
       "      <td>157</td>\n",
       "    </tr>\n",
       "    <tr>\n",
       "      <th>BHUTAN</th>\n",
       "      <td>273</td>\n",
       "    </tr>\n",
       "    <tr>\n",
       "      <th>BONAIRE, SAINT EUSTATIUS, AND SABA</th>\n",
       "      <td>88</td>\n",
       "    </tr>\n",
       "    <tr>\n",
       "      <th>BOSNIA &amp; HERZEGOVINA</th>\n",
       "      <td>6063</td>\n",
       "    </tr>\n",
       "    <tr>\n",
       "      <th>BOTSWANA</th>\n",
       "      <td>1918</td>\n",
       "    </tr>\n",
       "    <tr>\n",
       "      <th>BRAZIL</th>\n",
       "      <td>144480</td>\n",
       "    </tr>\n",
       "    <tr>\n",
       "      <th>BRITISH VIRGIN ISLANDS</th>\n",
       "      <td>49</td>\n",
       "    </tr>\n",
       "    <tr>\n",
       "      <th>BRUNEI (DARUSSALAM)</th>\n",
       "      <td>2484</td>\n",
       "    </tr>\n",
       "    <tr>\n",
       "      <th>BULGARIA</th>\n",
       "      <td>11567</td>\n",
       "    </tr>\n",
       "    <tr>\n",
       "      <th>...</th>\n",
       "      <td>...</td>\n",
       "    </tr>\n",
       "    <tr>\n",
       "      <th>SWEDEN</th>\n",
       "      <td>11841</td>\n",
       "    </tr>\n",
       "    <tr>\n",
       "      <th>SWITZERLAND</th>\n",
       "      <td>9628</td>\n",
       "    </tr>\n",
       "    <tr>\n",
       "      <th>SYRIAN ARAB REPUBLIC</th>\n",
       "      <td>8373</td>\n",
       "    </tr>\n",
       "    <tr>\n",
       "      <th>TAIWAN</th>\n",
       "      <td>72013</td>\n",
       "    </tr>\n",
       "    <tr>\n",
       "      <th>TAJIKISTAN</th>\n",
       "      <td>1415</td>\n",
       "    </tr>\n",
       "    <tr>\n",
       "      <th>THAILAND</th>\n",
       "      <td>86232</td>\n",
       "    </tr>\n",
       "    <tr>\n",
       "      <th>TIMOR-LESTE (FORMERLY EAST TIMOR)</th>\n",
       "      <td>128</td>\n",
       "    </tr>\n",
       "    <tr>\n",
       "      <th>TOGO</th>\n",
       "      <td>715</td>\n",
       "    </tr>\n",
       "    <tr>\n",
       "      <th>TONGA</th>\n",
       "      <td>33</td>\n",
       "    </tr>\n",
       "    <tr>\n",
       "      <th>TRINIDAD AND TOBAGO</th>\n",
       "      <td>12619</td>\n",
       "    </tr>\n",
       "    <tr>\n",
       "      <th>TUNISIA</th>\n",
       "      <td>7862</td>\n",
       "    </tr>\n",
       "    <tr>\n",
       "      <th>TURKEY</th>\n",
       "      <td>94350</td>\n",
       "    </tr>\n",
       "    <tr>\n",
       "      <th>TURKMENISTAN</th>\n",
       "      <td>18659</td>\n",
       "    </tr>\n",
       "    <tr>\n",
       "      <th>TURKS AND CAICOS ISLANDS</th>\n",
       "      <td>56</td>\n",
       "    </tr>\n",
       "    <tr>\n",
       "      <th>TUVALU</th>\n",
       "      <td>3</td>\n",
       "    </tr>\n",
       "    <tr>\n",
       "      <th>UGANDA</th>\n",
       "      <td>1426</td>\n",
       "    </tr>\n",
       "    <tr>\n",
       "      <th>UKRAINE</th>\n",
       "      <td>61985</td>\n",
       "    </tr>\n",
       "    <tr>\n",
       "      <th>UNITED ARAB EMIRATES</th>\n",
       "      <td>57641</td>\n",
       "    </tr>\n",
       "    <tr>\n",
       "      <th>UNITED KINGDOM</th>\n",
       "      <td>114486</td>\n",
       "    </tr>\n",
       "    <tr>\n",
       "      <th>UNITED REPUBLIC OF TANZANIA</th>\n",
       "      <td>3153</td>\n",
       "    </tr>\n",
       "    <tr>\n",
       "      <th>UNITED STATES OF AMERICA</th>\n",
       "      <td>1432855</td>\n",
       "    </tr>\n",
       "    <tr>\n",
       "      <th>URUGUAY</th>\n",
       "      <td>1840</td>\n",
       "    </tr>\n",
       "    <tr>\n",
       "      <th>UZBEKISTAN</th>\n",
       "      <td>28692</td>\n",
       "    </tr>\n",
       "    <tr>\n",
       "      <th>VANUATU</th>\n",
       "      <td>42</td>\n",
       "    </tr>\n",
       "    <tr>\n",
       "      <th>VENEZUELA</th>\n",
       "      <td>50510</td>\n",
       "    </tr>\n",
       "    <tr>\n",
       "      <th>VIET NAM</th>\n",
       "      <td>45517</td>\n",
       "    </tr>\n",
       "    <tr>\n",
       "      <th>WALLIS AND FUTUNA ISLANDS</th>\n",
       "      <td>6</td>\n",
       "    </tr>\n",
       "    <tr>\n",
       "      <th>YEMEN</th>\n",
       "      <td>6190</td>\n",
       "    </tr>\n",
       "    <tr>\n",
       "      <th>ZAMBIA</th>\n",
       "      <td>1228</td>\n",
       "    </tr>\n",
       "    <tr>\n",
       "      <th>ZIMBABWE</th>\n",
       "      <td>3278</td>\n",
       "    </tr>\n",
       "  </tbody>\n",
       "</table>\n",
       "<p>220 rows × 1 columns</p>\n",
       "</div>"
      ],
      "text/plain": [
       "                                      Total\n",
       "Nation                                     \n",
       "AFGHANISTAN                            2675\n",
       "ALBANIA                                1559\n",
       "ALGERIA                               39651\n",
       "ANDORRA                                 126\n",
       "ANGOLA                                 9480\n",
       "ANGUILLA                                 39\n",
       "ANTIGUA & BARBUDA                       145\n",
       "ARGENTINA                             55638\n",
       "ARMENIA                                1508\n",
       "ARUBA                                   238\n",
       "AUSTRALIA                             98517\n",
       "AUSTRIA                               16011\n",
       "AZERBAIJAN                            10223\n",
       "BAHAMAS                                 659\n",
       "BAHRAIN                                8546\n",
       "BANGLADESH                            19959\n",
       "BARBADOS                                347\n",
       "BELARUS                               17316\n",
       "BELGIUM                               25457\n",
       "BELIZE                                  135\n",
       "BENIN                                  1723\n",
       "BERMUDA                                 157\n",
       "BHUTAN                                  273\n",
       "BONAIRE, SAINT EUSTATIUS, AND SABA       88\n",
       "BOSNIA & HERZEGOVINA                   6063\n",
       "BOTSWANA                               1918\n",
       "BRAZIL                               144480\n",
       "BRITISH VIRGIN ISLANDS                   49\n",
       "BRUNEI (DARUSSALAM)                    2484\n",
       "BULGARIA                              11567\n",
       "...                                     ...\n",
       "SWEDEN                                11841\n",
       "SWITZERLAND                            9628\n",
       "SYRIAN ARAB REPUBLIC                   8373\n",
       "TAIWAN                                72013\n",
       "TAJIKISTAN                             1415\n",
       "THAILAND                              86232\n",
       "TIMOR-LESTE (FORMERLY EAST TIMOR)       128\n",
       "TOGO                                    715\n",
       "TONGA                                    33\n",
       "TRINIDAD AND TOBAGO                   12619\n",
       "TUNISIA                                7862\n",
       "TURKEY                                94350\n",
       "TURKMENISTAN                          18659\n",
       "TURKS AND CAICOS ISLANDS                 56\n",
       "TUVALU                                    3\n",
       "UGANDA                                 1426\n",
       "UKRAINE                               61985\n",
       "UNITED ARAB EMIRATES                  57641\n",
       "UNITED KINGDOM                       114486\n",
       "UNITED REPUBLIC OF TANZANIA            3153\n",
       "UNITED STATES OF AMERICA            1432855\n",
       "URUGUAY                                1840\n",
       "UZBEKISTAN                            28692\n",
       "VANUATU                                  42\n",
       "VENEZUELA                             50510\n",
       "VIET NAM                              45517\n",
       "WALLIS AND FUTUNA ISLANDS                 6\n",
       "YEMEN                                  6190\n",
       "ZAMBIA                                 1228\n",
       "ZIMBABWE                               3278\n",
       "\n",
       "[220 rows x 1 columns]"
      ]
     },
     "execution_count": 30,
     "metadata": {},
     "output_type": "execute_result"
    }
   ],
   "source": [
    "cdiac_2014.set_index(['Nation'])"
   ]
  },
  {
   "cell_type": "code",
   "execution_count": 31,
   "metadata": {
    "collapsed": true
   },
   "outputs": [],
   "source": [
    "cdiac_2014['Total Co2'] = cdiac_2014['Total']*3.67 \n",
    "del cdiac_2014['Total']"
   ]
  },
  {
   "cell_type": "code",
   "execution_count": 38,
   "metadata": {
    "collapsed": false
   },
   "outputs": [],
   "source": [
    "df_g1_filename = 'co2_emission.csv'\n",
    "df_g1_fullpath = os.path.join(dir_out, df_g1_filename)\n",
    "cdiac_2014.to_csv(path_or_buf=df_g1_fullpath)"
   ]
  }
 ],
 "metadata": {
  "anaconda-cloud": {},
  "kernelspec": {
   "display_name": "Python 3",
   "language": "python",
   "name": "python3"
  },
  "language_info": {
   "codemirror_mode": {
    "name": "ipython",
    "version": 3
   },
   "file_extension": ".py",
   "mimetype": "text/x-python",
   "name": "python",
   "nbconvert_exporter": "python",
   "pygments_lexer": "ipython3",
   "version": "3.6.0"
  }
 },
 "nbformat": 4,
 "nbformat_minor": 0
}
