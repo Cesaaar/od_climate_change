{
 "cells": [
  {
   "cell_type": "markdown",
   "metadata": {},
   "source": [
    "# I Cambiamenti Climatici"
   ]
  },
  {
   "cell_type": "code",
   "execution_count": 1,
   "metadata": {},
   "outputs": [],
   "source": [
    "#magic\n",
    "%load_ext autoreload\n",
    "%autoreload 2"
   ]
  },
  {
   "cell_type": "code",
   "execution_count": 2,
   "metadata": {
    "collapsed": false
   },
   "outputs": [],
   "source": [
    "#import librerie\n",
    "import pandas as pd\n",
    "import numpy as np\n",
    "import os\n",
    "import plotly\n",
    "import plotly.plotly as py\n",
    "import plotly.graph_objs as go\n",
    "import requests\n",
    "import datetime\n",
    "import jsonstat\n",
    "from IPython.display import IFrame\n",
    "\n",
    "from grafici import trend_co2,trend_temp,perc_rid,perc_rid_map,perc_spesa\n",
    "\n",
    "# Key and Secret\n",
    "config = {} \n",
    "config_path = os.path.join(os.path.abspath('/opt/app/data/config')) \n",
    "config_name = r'config_od.py' \n",
    "config_file = os.path.join(config_path,config_name) \n",
    "exec(open(config_file).read(),config)\n",
    "\n",
    "# Plotly settings\n",
    "plotly_user=config['PLOTLY_USER']\n",
    "plotly_key=config['PLOTLY_KEY']\n",
    "plotly.tools.set_credentials_file(username=plotly_user, api_key=plotly_key)\n",
    "\n",
    "dir_out = os.path.join(os.path.abspath(''),'output')\n",
    "\n",
    "pd.set_option('display.max_rows', None)\n",
    "pd.set_option('display.max_columns', None)\n",
    "pd.set_option('mode.chained_assignment', None)"
   ]
  },
  {
   "cell_type": "markdown",
   "metadata": {},
   "source": [
    "## Mondo"
   ]
  },
  {
   "cell_type": "markdown",
   "metadata": {},
   "source": [
    "#### G0. Ultimo valore Anidride Carbonica (CO2)"
   ]
  },
  {
   "cell_type": "code",
   "execution_count": 3,
   "metadata": {},
   "outputs": [
    {
     "name": "stdout",
     "output_type": "stream",
     "text": [
      "Ultimo Valore Medio: 411.75 ppm\n",
      " Anno : 2019\n",
      " Mese : 2\n",
      "\n",
      "Primo Valore Medio: 317.45 ppm\n",
      " Anno : 1958\n",
      " Mese : 4\n"
     ]
    }
   ],
   "source": [
    "def last_value():\n",
    "    #Leggo il file messo a disposizione da Mauna Loa\n",
    "    url=\"ftp://aftp.cmdl.noaa.gov/products/trends/co2/co2_mm_mlo.txt\"\n",
    "    columns = ['Anno','Mese','Data Decimale','Media CO2','Interpolato','Trend','#days']\n",
    "    co2_mese = pd.read_csv(url,comment='#',sep = '\\s+', names=columns)\n",
    "    # Seleziono Ultimo Valore\n",
    "    last_co2 = co2_mese.iloc[-1:]['Media CO2'].values[0]\n",
    "    last_anno = co2_mese.iloc[-1:]['Anno'].values[0]\n",
    "    last_mese = co2_mese.iloc[-1:]['Mese'].values[0]\n",
    "    print('Ultimo Valore Medio: {} ppm\\n Anno : {}\\n Mese : {}\\n'.format(last_co2, last_anno, last_mese))\n",
    "    \n",
    "    # Seleziono Primo Valore\n",
    "    first_co2 = co2_mese.iloc[1:]['Media CO2'].values[0]\n",
    "    first_anno = co2_mese.iloc[1:]['Anno'].values[0]\n",
    "    first_mese = co2_mese.iloc[1:]['Mese'].values[0]\n",
    "    print('Primo Valore Medio: {} ppm\\n Anno : {}\\n Mese : {}'.format(first_co2, first_anno, first_mese))\n",
    "\n",
    "last_value()"
   ]
  },
  {
   "cell_type": "markdown",
   "metadata": {},
   "source": [
    "#### G1. Trend annuale di concentrazione Anidrire Carbonica (CO2)\n",
    "\n",
    "> Unità di misura: in ppm\n",
    "\n",
    "> Fonte: Osservatorio Mauna Loa, Hawaii (NOAA-ESRL)"
   ]
  },
  {
   "cell_type": "code",
   "execution_count": 4,
   "metadata": {},
   "outputs": [],
   "source": [
    "#Leggo il file messo a disposizione da Mauna Loa\n",
    "url=\"ftp://aftp.cmdl.noaa.gov/products/trends/co2/co2_annmean_mlo.txt\"\n",
    "columns = ['Anno','Media CO2','unc']\n",
    "co2_anno = pd.read_csv(url,comment='#',sep = '\\s+', names=columns)\n",
    "del co2_anno['unc']"
   ]
  },
  {
   "cell_type": "code",
   "execution_count": null,
   "metadata": {},
   "outputs": [],
   "source": [
    "# Grafico\n",
    "#fig_co2 = trend_co2(co2_anno)\n",
    "#py.iplot(fig_co2, filename='co2-trend')"
   ]
  },
  {
   "cell_type": "code",
   "execution_count": 6,
   "metadata": {},
   "outputs": [
    {
     "data": {
      "text/html": [
       "\n",
       "        <iframe\n",
       "            width=\"450\"\n",
       "            height=\"300\"\n",
       "            src=\"//plot.ly/~andrea.cesarini85/56.embed\"\n",
       "            frameborder=\"0\"\n",
       "            allowfullscreen\n",
       "        ></iframe>\n",
       "        "
      ],
      "text/plain": [
       "<IPython.lib.display.IFrame at 0x7efc865ce6a0>"
      ]
     },
     "execution_count": 6,
     "metadata": {},
     "output_type": "execute_result"
    }
   ],
   "source": [
    "# Grafico\n",
    "IFrame('//plot.ly/~andrea.cesarini85/56.embed', width=450, height=300)"
   ]
  },
  {
   "cell_type": "markdown",
   "metadata": {},
   "source": [
    "#### G2. Paesi per CO2 prodotta in migliaia di tonnellate (kton)\n",
    "\n",
    "> Unità di misura: in kton\n",
    "\n",
    "> Fonte: World Bank Data"
   ]
  },
  {
   "cell_type": "code",
   "execution_count": 151,
   "metadata": {},
   "outputs": [
    {
     "data": {
      "text/html": [
       "\n",
       "        <iframe\n",
       "            width=\"450\"\n",
       "            height=\"300\"\n",
       "            src=\"https://data.worldbank.org/share/widget?indicators=EN.ATM.CO2E.KT&view=map\"\n",
       "            frameborder=\"0\"\n",
       "            allowfullscreen\n",
       "        ></iframe>\n",
       "        "
      ],
      "text/plain": [
       "<IPython.lib.display.IFrame at 0x7f01b5d7fc88>"
      ]
     },
     "execution_count": 151,
     "metadata": {},
     "output_type": "execute_result"
    }
   ],
   "source": [
    "IFrame('https://data.worldbank.org/share/widget?indicators=EN.ATM.CO2E.KT&view=map', width=450, height=300)"
   ]
  },
  {
   "cell_type": "markdown",
   "metadata": {},
   "source": [
    "#### G3. Incremento temperatura terrestre\n",
    "\n",
    "> Unità di misura: gradi C°\n",
    "\n",
    "> Fonte: NASA"
   ]
  },
  {
   "cell_type": "code",
   "execution_count": 5,
   "metadata": {},
   "outputs": [],
   "source": [
    "#Leggo il file messo a disposizione dal NOAA\n",
    "url=\"https://data.giss.nasa.gov/gistemp/tabledata_v3/ZonAnn.Ts+dSST.txt\"\n",
    "temp = pd.read_csv(url, sep = '\\n', header=-1)\n",
    "global_temp = pd.read_csv(url, skiprows=8, nrows=21,sep = '\\s+', header=0)\n",
    "global_temp1 = pd.read_csv(url, skiprows=32, nrows=20,sep = '\\s+', header=0)\n",
    "global_temp2 = pd.read_csv(url, skiprows=55, nrows=20,sep = '\\s+', header=0)\n",
    "global_temp3 = pd.read_csv(url, skiprows=78, nrows=20,sep = '\\s+', header=0)\n",
    "global_temp4 = pd.read_csv(url, skiprows=101, nrows=20,sep = '\\s+', header=0)\n",
    "global_temp5 = pd.read_csv(url, skiprows=124, nrows=20,sep = '\\s+', header=0)\n",
    "global_temp6 = pd.read_csv(url, skiprows=147, nrows=16,sep = '\\s+', header=0)\n",
    "global_temp = global_temp.append(global_temp1).append(global_temp2).append(global_temp3).append(global_temp4).append(global_temp5).append(global_temp6)\n",
    "\n",
    "# Filtro solo le colonne d'interesse e setto anno indice\n",
    "global_temp = global_temp.filter(items=['Year', 'Glob'])\n",
    "#global_temp = global_temp.set_index(['Year'])\n",
    "\n",
    "# Normalizzo la temperatura\n",
    "global_temp['Glob_C'] = global_temp['Glob']*0.01 \n",
    "del global_temp['Glob']"
   ]
  },
  {
   "cell_type": "code",
   "execution_count": 9,
   "metadata": {},
   "outputs": [],
   "source": [
    "# Grafico\n",
    "#fig_temp = trend_temp(global_temp)\n",
    "#py.iplot(fig_temp, filename='temp-trend')"
   ]
  },
  {
   "cell_type": "code",
   "execution_count": 10,
   "metadata": {},
   "outputs": [
    {
     "data": {
      "text/html": [
       "\n",
       "        <iframe\n",
       "            width=\"450\"\n",
       "            height=\"300\"\n",
       "            src=\"//plot.ly/~andrea.cesarini85/58.embed\"\n",
       "            frameborder=\"0\"\n",
       "            allowfullscreen\n",
       "        ></iframe>\n",
       "        "
      ],
      "text/plain": [
       "<IPython.lib.display.IFrame at 0x7efc8381e470>"
      ]
     },
     "execution_count": 10,
     "metadata": {},
     "output_type": "execute_result"
    }
   ],
   "source": [
    "# Grafico\n",
    "IFrame('//plot.ly/~andrea.cesarini85/58.embed', width=450, height=300)"
   ]
  },
  {
   "cell_type": "markdown",
   "metadata": {},
   "source": [
    "## Europa"
   ]
  },
  {
   "cell_type": "markdown",
   "metadata": {},
   "source": [
    "> Dataset 1 - EU Institutions - https://data.europa.eu/euodp/en/data \n",
    "\n",
    "The European Union Open Data Portal (EU ODP) provides access to an expanding range of data from the European Union (EU) institutions and other EU bodies"
   ]
  },
  {
   "cell_type": "markdown",
   "metadata": {},
   "source": [
    "#### GDP"
   ]
  },
  {
   "cell_type": "code",
   "execution_count": 6,
   "metadata": {},
   "outputs": [],
   "source": [
    "# From EU Institution Eurostat get GDP, Country and People\n",
    "# Uso query builder https://ec.europa.eu/eurostat/web/json-and-unicode-web-services/getting-started/query-builder\n",
    "# CP_MEUR -> Current prices, million eur\n",
    "# B1GQ -> Gross domestic product (GDP) at market prices\n",
    "url_1 = 'http://ec.europa.eu/eurostat/wdds/rest/data/v1.1/json/en/nama_10_gdp?na_item=B1GQ&precision=1&unit=CP_MEUR'\n",
    "file_name_1 = r'GDP.json'\n",
    "j = jsonstat.download(url_1, file_name_1)\n",
    "collection_1 = jsonstat.from_file('data/GDP.json')\n",
    "gdp = collection_1.dataset('nama_10_gdp')\n",
    "# Dimensioni Geo e Time\n",
    "df_gdp = gdp.to_table(content='id',rtype=pd.DataFrame)\n",
    "# Filtro solo 2016\n",
    "df_gdp=df_gdp[(df_gdp['time']=='2016')]"
   ]
  },
  {
   "cell_type": "code",
   "execution_count": 7,
   "metadata": {},
   "outputs": [
    {
     "data": {
      "text/html": [
       "<div>\n",
       "<style scoped>\n",
       "    .dataframe tbody tr th:only-of-type {\n",
       "        vertical-align: middle;\n",
       "    }\n",
       "\n",
       "    .dataframe tbody tr th {\n",
       "        vertical-align: top;\n",
       "    }\n",
       "\n",
       "    .dataframe thead th {\n",
       "        text-align: right;\n",
       "    }\n",
       "</style>\n",
       "<table border=\"1\" class=\"dataframe\">\n",
       "  <thead>\n",
       "    <tr style=\"text-align: right;\">\n",
       "      <th></th>\n",
       "      <th>unit</th>\n",
       "      <th>na_item</th>\n",
       "      <th>geo</th>\n",
       "      <th>time</th>\n",
       "      <th>Value</th>\n",
       "    </tr>\n",
       "  </thead>\n",
       "  <tbody>\n",
       "    <tr>\n",
       "      <th>41</th>\n",
       "      <td>CP_MEUR</td>\n",
       "      <td>B1GQ</td>\n",
       "      <td>AL</td>\n",
       "      <td>2016</td>\n",
       "      <td>10740.0</td>\n",
       "    </tr>\n",
       "    <tr>\n",
       "      <th>85</th>\n",
       "      <td>CP_MEUR</td>\n",
       "      <td>B1GQ</td>\n",
       "      <td>AT</td>\n",
       "      <td>2016</td>\n",
       "      <td>356237.6</td>\n",
       "    </tr>\n",
       "  </tbody>\n",
       "</table>\n",
       "</div>"
      ],
      "text/plain": [
       "       unit na_item geo  time     Value\n",
       "41  CP_MEUR    B1GQ  AL  2016   10740.0\n",
       "85  CP_MEUR    B1GQ  AT  2016  356237.6"
      ]
     },
     "execution_count": 7,
     "metadata": {},
     "output_type": "execute_result"
    }
   ],
   "source": [
    "df_gdp.head(2)"
   ]
  },
  {
   "cell_type": "markdown",
   "metadata": {},
   "source": [
    "#### Number Of Abitant"
   ]
  },
  {
   "cell_type": "code",
   "execution_count": 8,
   "metadata": {},
   "outputs": [],
   "source": [
    "# Uso query builder https://ec.europa.eu/eurostat/web/json-and-unicode-web-services/getting-started/query-builder\n",
    "# POP_NC -> Totale national population\n",
    "# THS_PER -> thousand person\n",
    "url_2 = 'http://ec.europa.eu/eurostat/wdds/rest/data/v1.1/json/en/nama_10_pe?na_item=POP_NC&precision=1&unit=THS_PER'\n",
    "file_name_2 = r'POP.json'\n",
    "j = jsonstat.download(url_2, file_name_2)\n",
    "collection_2 = jsonstat.from_file('data/POP.json')\n",
    "pop = collection_2.dataset('nama_10_pe')\n",
    "# Dimensioni Geo e Time\n",
    "df_pop = pop.to_table(content='id',rtype=pd.DataFrame)\n",
    "# Filtro solo 2016\n",
    "df_pop=df_pop[(df_pop['time']=='2016')]"
   ]
  },
  {
   "cell_type": "markdown",
   "metadata": {},
   "source": [
    "#### G4. Emissione Gas Serra"
   ]
  },
  {
   "cell_type": "code",
   "execution_count": 9,
   "metadata": {},
   "outputs": [],
   "source": [
    "# Uso query builder https://ec.europa.eu/eurostat/web/json-and-unicode-web-services/getting-started/query-builder\n",
    "# GHG -> Greenhouse gas\n",
    "# CRF1-6X4_MEMO -> All sector\n",
    "# THS_T -> ktons\n",
    "url_3 = 'http://ec.europa.eu/eurostat/wdds/rest/data/v1.1/json/en/env_air_gge?airpol=GHG&precision=1&airemsect=CRF1-6X4_MEMO&unit=THS_T'\n",
    "file_name_3 = r'GHG.json'\n",
    "j = jsonstat.download(url_3, file_name_3)\n",
    "collection_3 = jsonstat.from_file('data/GHG.json')\n",
    "ghg = collection_3.dataset('env_air_gge')\n",
    "# Dimensioni Geo e Time\n",
    "df_ghg = ghg.to_table(content='id',rtype=pd.DataFrame)"
   ]
  },
  {
   "cell_type": "code",
   "execution_count": 10,
   "metadata": {},
   "outputs": [],
   "source": [
    "df_gdp.rename(columns={'Value': 'GDP'},inplace=True)\n",
    "df_gdp.drop(columns=['na_item', 'unit'], inplace=True)\n",
    "df_pop.rename(columns={'Value': 'Habitant'},inplace=True)\n",
    "df_pop.drop(columns=['na_item', 'unit'], inplace=True)\n",
    "df_ghg.rename(columns={'Value': 'GHG'},inplace=True)\n",
    "df_ghg.drop(columns=['airpol', 'unit','airemsect'], inplace=True)"
   ]
  },
  {
   "cell_type": "markdown",
   "metadata": {},
   "source": [
    "**Le emissioni dell’UE sono ridotte del 23% tra il 1990 e il 2016**"
   ]
  },
  {
   "cell_type": "code",
   "execution_count": 11,
   "metadata": {},
   "outputs": [
    {
     "data": {
      "text/plain": [
       "23.995900313202963"
      ]
     },
     "execution_count": 11,
     "metadata": {},
     "output_type": "execute_result"
    }
   ],
   "source": [
    "#1990\n",
    "ghg_eu_1990 = df_ghg[(df_ghg['time']=='1990') & (df_ghg['geo'] == 'EU28')]['GHG'].values[0]\n",
    "ghg_eu_2016 = df_ghg[(df_ghg['time']=='2016') & (df_ghg['geo'] == 'EU28')]['GHG'].values[0]\n",
    "riduzione = ((ghg_eu_1990-ghg_eu_2016)/ghg_eu_1990)*100\n",
    "riduzione"
   ]
  },
  {
   "cell_type": "markdown",
   "metadata": {},
   "source": [
    "**Riduzione delle emissioni per Paese, GDP e Numero Abitanti**"
   ]
  },
  {
   "cell_type": "code",
   "execution_count": 12,
   "metadata": {},
   "outputs": [],
   "source": [
    "ghg_1990 = df_ghg[(df_ghg['time']=='1990')]\n",
    "ghg_2016 = df_ghg[(df_ghg['time']=='2016')]\n",
    "ghg_diff = ghg_2016.set_index(['geo']).join(ghg_1990.set_index(['geo']),rsuffix='1990').reset_index()"
   ]
  },
  {
   "cell_type": "code",
   "execution_count": 13,
   "metadata": {},
   "outputs": [],
   "source": [
    "ghg_diff['perc_rid']=((ghg_diff['GHG1990']-ghg_diff['GHG'])/ghg_diff['GHG1990'])*100"
   ]
  },
  {
   "cell_type": "code",
   "execution_count": 14,
   "metadata": {},
   "outputs": [],
   "source": [
    "df_all = ghg_diff.set_index(['geo','time']).join(df_pop.set_index(['geo','time'])).join(df_gdp.set_index(['geo','time'])).reset_index()"
   ]
  },
  {
   "cell_type": "code",
   "execution_count": 15,
   "metadata": {},
   "outputs": [
    {
     "data": {
      "text/html": [
       "<div>\n",
       "<style scoped>\n",
       "    .dataframe tbody tr th:only-of-type {\n",
       "        vertical-align: middle;\n",
       "    }\n",
       "\n",
       "    .dataframe tbody tr th {\n",
       "        vertical-align: top;\n",
       "    }\n",
       "\n",
       "    .dataframe thead th {\n",
       "        text-align: right;\n",
       "    }\n",
       "</style>\n",
       "<table border=\"1\" class=\"dataframe\">\n",
       "  <thead>\n",
       "    <tr style=\"text-align: right;\">\n",
       "      <th></th>\n",
       "      <th>geo</th>\n",
       "      <th>time</th>\n",
       "      <th>GHG</th>\n",
       "      <th>time1990</th>\n",
       "      <th>GHG1990</th>\n",
       "      <th>perc_rid</th>\n",
       "      <th>Habitant</th>\n",
       "      <th>GDP</th>\n",
       "    </tr>\n",
       "  </thead>\n",
       "  <tbody>\n",
       "    <tr>\n",
       "      <th>0</th>\n",
       "      <td>AT</td>\n",
       "      <td>2016</td>\n",
       "      <td>79672.64</td>\n",
       "      <td>1990</td>\n",
       "      <td>78690.05</td>\n",
       "      <td>-1.248684</td>\n",
       "      <td>8739.81</td>\n",
       "      <td>356237.6</td>\n",
       "    </tr>\n",
       "    <tr>\n",
       "      <th>1</th>\n",
       "      <td>BE</td>\n",
       "      <td>2016</td>\n",
       "      <td>117727.11</td>\n",
       "      <td>1990</td>\n",
       "      <td>146654.02</td>\n",
       "      <td>19.724594</td>\n",
       "      <td>11295.00</td>\n",
       "      <td>424660.3</td>\n",
       "    </tr>\n",
       "  </tbody>\n",
       "</table>\n",
       "</div>"
      ],
      "text/plain": [
       "  geo  time        GHG time1990    GHG1990   perc_rid  Habitant       GDP\n",
       "0  AT  2016   79672.64     1990   78690.05  -1.248684   8739.81  356237.6\n",
       "1  BE  2016  117727.11     1990  146654.02  19.724594  11295.00  424660.3"
      ]
     },
     "execution_count": 15,
     "metadata": {},
     "output_type": "execute_result"
    }
   ],
   "source": [
    "df_all.head(2)"
   ]
  },
  {
   "cell_type": "code",
   "execution_count": 16,
   "metadata": {},
   "outputs": [
    {
     "data": {
      "text/html": [
       "<div>\n",
       "<style scoped>\n",
       "    .dataframe tbody tr th:only-of-type {\n",
       "        vertical-align: middle;\n",
       "    }\n",
       "\n",
       "    .dataframe tbody tr th {\n",
       "        vertical-align: top;\n",
       "    }\n",
       "\n",
       "    .dataframe thead th {\n",
       "        text-align: right;\n",
       "    }\n",
       "</style>\n",
       "<table border=\"1\" class=\"dataframe\">\n",
       "  <thead>\n",
       "    <tr style=\"text-align: right;\">\n",
       "      <th></th>\n",
       "      <th>geo</th>\n",
       "      <th>time</th>\n",
       "      <th>GHG</th>\n",
       "      <th>time1990</th>\n",
       "      <th>GHG1990</th>\n",
       "      <th>perc_rid</th>\n",
       "      <th>Habitant</th>\n",
       "      <th>GDP</th>\n",
       "    </tr>\n",
       "  </thead>\n",
       "  <tbody>\n",
       "    <tr>\n",
       "      <th>33</th>\n",
       "      <td>TR</td>\n",
       "      <td>2016</td>\n",
       "      <td>496067.36</td>\n",
       "      <td>1990</td>\n",
       "      <td>210714.73</td>\n",
       "      <td>-135.421302</td>\n",
       "      <td>NaN</td>\n",
       "      <td>780224.9</td>\n",
       "    </tr>\n",
       "    <tr>\n",
       "      <th>4</th>\n",
       "      <td>CY</td>\n",
       "      <td>2016</td>\n",
       "      <td>8773.06</td>\n",
       "      <td>1990</td>\n",
       "      <td>5591.21</td>\n",
       "      <td>-56.908075</td>\n",
       "      <td>851.56</td>\n",
       "      <td>18490.2</td>\n",
       "    </tr>\n",
       "    <tr>\n",
       "      <th>18</th>\n",
       "      <td>IS</td>\n",
       "      <td>2016</td>\n",
       "      <td>4669.34</td>\n",
       "      <td>1990</td>\n",
       "      <td>3634.19</td>\n",
       "      <td>-28.483651</td>\n",
       "      <td>335.40</td>\n",
       "      <td>18735.0</td>\n",
       "    </tr>\n",
       "    <tr>\n",
       "      <th>28</th>\n",
       "      <td>PT</td>\n",
       "      <td>2016</td>\n",
       "      <td>67621.06</td>\n",
       "      <td>1990</td>\n",
       "      <td>59825.04</td>\n",
       "      <td>-13.031366</td>\n",
       "      <td>10325.50</td>\n",
       "      <td>186480.5</td>\n",
       "    </tr>\n",
       "    <tr>\n",
       "      <th>10</th>\n",
       "      <td>ES</td>\n",
       "      <td>2016</td>\n",
       "      <td>324706.55</td>\n",
       "      <td>1990</td>\n",
       "      <td>287656.37</td>\n",
       "      <td>-12.880014</td>\n",
       "      <td>46449.87</td>\n",
       "      <td>1118743.0</td>\n",
       "    </tr>\n",
       "    <tr>\n",
       "      <th>17</th>\n",
       "      <td>IE</td>\n",
       "      <td>2016</td>\n",
       "      <td>61545.82</td>\n",
       "      <td>1990</td>\n",
       "      <td>55490.29</td>\n",
       "      <td>-10.912774</td>\n",
       "      <td>4748.99</td>\n",
       "      <td>273238.2</td>\n",
       "    </tr>\n",
       "    <tr>\n",
       "      <th>26</th>\n",
       "      <td>NO</td>\n",
       "      <td>2016</td>\n",
       "      <td>53242.51</td>\n",
       "      <td>1990</td>\n",
       "      <td>51696.96</td>\n",
       "      <td>-2.989634</td>\n",
       "      <td>5236.00</td>\n",
       "      <td>335747.5</td>\n",
       "    </tr>\n",
       "  </tbody>\n",
       "</table>\n",
       "</div>"
      ],
      "text/plain": [
       "   geo  time        GHG time1990    GHG1990    perc_rid  Habitant        GDP\n",
       "33  TR  2016  496067.36     1990  210714.73 -135.421302       NaN   780224.9\n",
       "4   CY  2016    8773.06     1990    5591.21  -56.908075    851.56    18490.2\n",
       "18  IS  2016    4669.34     1990    3634.19  -28.483651    335.40    18735.0\n",
       "28  PT  2016   67621.06     1990   59825.04  -13.031366  10325.50   186480.5\n",
       "10  ES  2016  324706.55     1990  287656.37  -12.880014  46449.87  1118743.0\n",
       "17  IE  2016   61545.82     1990   55490.29  -10.912774   4748.99   273238.2\n",
       "26  NO  2016   53242.51     1990   51696.96   -2.989634   5236.00   335747.5"
      ]
     },
     "execution_count": 16,
     "metadata": {},
     "output_type": "execute_result"
    }
   ],
   "source": [
    "#geo -> Paese\n",
    "#time -> Anno\n",
    "#GDP -> Gross Domestic Product in milioni di eur (ovvero il PIL)\n",
    "#Habitant -> Numero abitanti per migliaia di persone\n",
    "#GHG -> Greenhouse emission in Ktons del 2016\n",
    "#perc_rid -> % di riduzione delle emissioni dal 1990 al 2016\n",
    "df_all.sort_values('perc_rid',ascending=True).head(7)"
   ]
  },
  {
   "cell_type": "code",
   "execution_count": 19,
   "metadata": {},
   "outputs": [],
   "source": [
    "# Setto valori negativi a ZERO  Turchia e Cipro i pessimi quelli che hanno aumentato le emissioni\n",
    "df_all['perc_rid'][df_all['perc_rid'] < 0] = 0"
   ]
  },
  {
   "cell_type": "code",
   "execution_count": 20,
   "metadata": {},
   "outputs": [],
   "source": [
    "df_code = pd.read_csv('https://datahub.io/core/country-list/r/data.csv')"
   ]
  },
  {
   "cell_type": "code",
   "execution_count": 21,
   "metadata": {},
   "outputs": [],
   "source": [
    "df_all = df_all.set_index(['geo']).join(df_code.set_index(['Code'])).reset_index()"
   ]
  },
  {
   "cell_type": "code",
   "execution_count": 22,
   "metadata": {},
   "outputs": [
    {
     "data": {
      "text/html": [
       "<div>\n",
       "<style scoped>\n",
       "    .dataframe tbody tr th:only-of-type {\n",
       "        vertical-align: middle;\n",
       "    }\n",
       "\n",
       "    .dataframe tbody tr th {\n",
       "        vertical-align: top;\n",
       "    }\n",
       "\n",
       "    .dataframe thead th {\n",
       "        text-align: right;\n",
       "    }\n",
       "</style>\n",
       "<table border=\"1\" class=\"dataframe\">\n",
       "  <thead>\n",
       "    <tr style=\"text-align: right;\">\n",
       "      <th></th>\n",
       "      <th>geo</th>\n",
       "      <th>time</th>\n",
       "      <th>GHG</th>\n",
       "      <th>time1990</th>\n",
       "      <th>GHG1990</th>\n",
       "      <th>perc_rid</th>\n",
       "      <th>Habitant</th>\n",
       "      <th>GDP</th>\n",
       "      <th>Name</th>\n",
       "    </tr>\n",
       "  </thead>\n",
       "  <tbody>\n",
       "    <tr>\n",
       "      <th>0</th>\n",
       "      <td>AT</td>\n",
       "      <td>2016</td>\n",
       "      <td>79672.64</td>\n",
       "      <td>1990</td>\n",
       "      <td>78690.05</td>\n",
       "      <td>0.000000</td>\n",
       "      <td>8739.81</td>\n",
       "      <td>356237.6</td>\n",
       "      <td>Austria</td>\n",
       "    </tr>\n",
       "    <tr>\n",
       "      <th>1</th>\n",
       "      <td>BE</td>\n",
       "      <td>2016</td>\n",
       "      <td>117727.11</td>\n",
       "      <td>1990</td>\n",
       "      <td>146654.02</td>\n",
       "      <td>19.724594</td>\n",
       "      <td>11295.00</td>\n",
       "      <td>424660.3</td>\n",
       "      <td>Belgium</td>\n",
       "    </tr>\n",
       "  </tbody>\n",
       "</table>\n",
       "</div>"
      ],
      "text/plain": [
       "  geo  time        GHG time1990    GHG1990   perc_rid  Habitant       GDP  \\\n",
       "0  AT  2016   79672.64     1990   78690.05   0.000000   8739.81  356237.6   \n",
       "1  BE  2016  117727.11     1990  146654.02  19.724594  11295.00  424660.3   \n",
       "\n",
       "      Name  \n",
       "0  Austria  \n",
       "1  Belgium  "
      ]
     },
     "execution_count": 22,
     "metadata": {},
     "output_type": "execute_result"
    }
   ],
   "source": [
    "df_all.head(2)"
   ]
  },
  {
   "cell_type": "code",
   "execution_count": 26,
   "metadata": {},
   "outputs": [],
   "source": [
    "# Grafico\n",
    "#fig_rid = perc_rid(df_all)\n",
    "#py.iplot(fig_rid, filename='perc_rid')"
   ]
  },
  {
   "cell_type": "code",
   "execution_count": 54,
   "metadata": {},
   "outputs": [
    {
     "data": {
      "text/html": [
       "\n",
       "        <iframe\n",
       "            width=\"750\"\n",
       "            height=\"600\"\n",
       "            src=\"//plot.ly/~andrea.cesarini85/60.embed\"\n",
       "            frameborder=\"0\"\n",
       "            allowfullscreen\n",
       "        ></iframe>\n",
       "        "
      ],
      "text/plain": [
       "<IPython.lib.display.IFrame at 0x7efc83712518>"
      ]
     },
     "execution_count": 54,
     "metadata": {},
     "output_type": "execute_result"
    }
   ],
   "source": [
    "# Grafico\n",
    "IFrame('//plot.ly/~andrea.cesarini85/60.embed', width=750, height=600)"
   ]
  },
  {
   "cell_type": "code",
   "execution_count": 28,
   "metadata": {},
   "outputs": [],
   "source": [
    "# Grafico\n",
    "#fig_map = perc_rid_map(df_all)\n",
    "#py.iplot(fig_map, filename = 'perc_rid_map')"
   ]
  },
  {
   "cell_type": "code",
   "execution_count": 29,
   "metadata": {},
   "outputs": [
    {
     "data": {
      "text/html": [
       "\n",
       "        <iframe\n",
       "            width=\"450\"\n",
       "            height=\"300\"\n",
       "            src=\"//plot.ly/~andrea.cesarini85/62.embed\"\n",
       "            frameborder=\"0\"\n",
       "            allowfullscreen\n",
       "        ></iframe>\n",
       "        "
      ],
      "text/plain": [
       "<IPython.lib.display.IFrame at 0x7efc8374d9b0>"
      ]
     },
     "execution_count": 29,
     "metadata": {},
     "output_type": "execute_result"
    }
   ],
   "source": [
    "# Grafico\n",
    "IFrame('//plot.ly/~andrea.cesarini85/62.embed', width=450, height=300)"
   ]
  },
  {
   "cell_type": "markdown",
   "metadata": {},
   "source": [
    "#### GX. Spesa per Cambiamenti Climatici (rispetto spesa totale)"
   ]
  },
  {
   "cell_type": "code",
   "execution_count": 31,
   "metadata": {},
   "outputs": [
    {
     "data": {
      "text/html": [
       "<div>\n",
       "<style scoped>\n",
       "    .dataframe tbody tr th:only-of-type {\n",
       "        vertical-align: middle;\n",
       "    }\n",
       "\n",
       "    .dataframe tbody tr th {\n",
       "        vertical-align: top;\n",
       "    }\n",
       "\n",
       "    .dataframe thead th {\n",
       "        text-align: right;\n",
       "    }\n",
       "</style>\n",
       "<table border=\"1\" class=\"dataframe\">\n",
       "  <thead>\n",
       "    <tr style=\"text-align: right;\">\n",
       "      <th></th>\n",
       "      <th>geo</th>\n",
       "      <th>time</th>\n",
       "      <th>GHG</th>\n",
       "      <th>time1990</th>\n",
       "      <th>GHG1990</th>\n",
       "      <th>perc_rid</th>\n",
       "      <th>Habitant</th>\n",
       "      <th>GDP</th>\n",
       "      <th>Name</th>\n",
       "    </tr>\n",
       "  </thead>\n",
       "  <tbody>\n",
       "    <tr>\n",
       "      <th>0</th>\n",
       "      <td>AT</td>\n",
       "      <td>2016</td>\n",
       "      <td>79672.64</td>\n",
       "      <td>1990</td>\n",
       "      <td>78690.05</td>\n",
       "      <td>0.000000</td>\n",
       "      <td>8739.81</td>\n",
       "      <td>356237.6</td>\n",
       "      <td>Austria</td>\n",
       "    </tr>\n",
       "    <tr>\n",
       "      <th>1</th>\n",
       "      <td>BE</td>\n",
       "      <td>2016</td>\n",
       "      <td>117727.11</td>\n",
       "      <td>1990</td>\n",
       "      <td>146654.02</td>\n",
       "      <td>19.724594</td>\n",
       "      <td>11295.00</td>\n",
       "      <td>424660.3</td>\n",
       "      <td>Belgium</td>\n",
       "    </tr>\n",
       "  </tbody>\n",
       "</table>\n",
       "</div>"
      ],
      "text/plain": [
       "  geo  time        GHG time1990    GHG1990   perc_rid  Habitant       GDP  \\\n",
       "0  AT  2016   79672.64     1990   78690.05   0.000000   8739.81  356237.6   \n",
       "1  BE  2016  117727.11     1990  146654.02  19.724594  11295.00  424660.3   \n",
       "\n",
       "      Name  \n",
       "0  Austria  \n",
       "1  Belgium  "
      ]
     },
     "execution_count": 31,
     "metadata": {},
     "output_type": "execute_result"
    }
   ],
   "source": [
    "df_all.head(2)"
   ]
  },
  {
   "cell_type": "code",
   "execution_count": 39,
   "metadata": {},
   "outputs": [],
   "source": [
    "# Contribution to the international 100bn USD commitment on climate related expending (source: DG CLIMA, EIONET)\n",
    "# Spesa per Cambiamento Climatico in Milioni di Euro\n",
    "url_4 = 'http://ec.europa.eu/eurostat/wdds/rest/data/v1.1/json/en/sdg_13_50?unit=MIO_EUR&precision=1'\n",
    "file_name_4 = r'SpendingClimateChange.json'\n",
    "j = jsonstat.download(url_4, file_name_4)\n",
    "collection_4 = jsonstat.from_file('data/SpendingClimateChange.json')\n",
    "spclima = collection_4.dataset('sdg_13_50')\n",
    "# Dimensioni Geo e Time\n",
    "df_spesa_clima = spclima.to_table(content='id',rtype=pd.DataFrame)"
   ]
  },
  {
   "cell_type": "code",
   "execution_count": 49,
   "metadata": {},
   "outputs": [
    {
     "data": {
      "text/html": [
       "<div>\n",
       "<style scoped>\n",
       "    .dataframe tbody tr th:only-of-type {\n",
       "        vertical-align: middle;\n",
       "    }\n",
       "\n",
       "    .dataframe tbody tr th {\n",
       "        vertical-align: top;\n",
       "    }\n",
       "\n",
       "    .dataframe thead th {\n",
       "        text-align: right;\n",
       "    }\n",
       "</style>\n",
       "<table border=\"1\" class=\"dataframe\">\n",
       "  <thead>\n",
       "    <tr style=\"text-align: right;\">\n",
       "      <th></th>\n",
       "      <th>unit</th>\n",
       "      <th>geo</th>\n",
       "      <th>time</th>\n",
       "      <th>Value</th>\n",
       "    </tr>\n",
       "  </thead>\n",
       "  <tbody>\n",
       "    <tr>\n",
       "      <th>36</th>\n",
       "      <td>MIO_EUR</td>\n",
       "      <td>EU28</td>\n",
       "      <td>2014</td>\n",
       "      <td>11718.43</td>\n",
       "    </tr>\n",
       "    <tr>\n",
       "      <th>37</th>\n",
       "      <td>MIO_EUR</td>\n",
       "      <td>EU28</td>\n",
       "      <td>2015</td>\n",
       "      <td>13813.88</td>\n",
       "    </tr>\n",
       "    <tr>\n",
       "      <th>38</th>\n",
       "      <td>MIO_EUR</td>\n",
       "      <td>EU28</td>\n",
       "      <td>2016</td>\n",
       "      <td>15501.44</td>\n",
       "    </tr>\n",
       "  </tbody>\n",
       "</table>\n",
       "</div>"
      ],
      "text/plain": [
       "       unit   geo  time     Value\n",
       "36  MIO_EUR  EU28  2014  11718.43\n",
       "37  MIO_EUR  EU28  2015  13813.88\n",
       "38  MIO_EUR  EU28  2016  15501.44"
      ]
     },
     "execution_count": 49,
     "metadata": {},
     "output_type": "execute_result"
    }
   ],
   "source": [
    "df_spesa_clima[df_spesa_clima['geo']=='EU28'] #mld spesa"
   ]
  },
  {
   "cell_type": "code",
   "execution_count": 50,
   "metadata": {},
   "outputs": [],
   "source": [
    "# Filtro solo 2016\n",
    "df_spesa_clima=df_spesa_clima[(df_spesa_clima['time']=='2016')]\n",
    "df_spesa_clima.rename(columns={'Value': 'Spesa Clima'},inplace=True)\n",
    "df_spesa_clima.drop(columns=['unit','time'], inplace=True)"
   ]
  },
  {
   "cell_type": "code",
   "execution_count": 25,
   "metadata": {},
   "outputs": [],
   "source": [
    "# Spesa complessiva in milioni di euro\n",
    "url_5 = 'http://ec.europa.eu/eurostat/wdds/rest/data/v1.1/json/en/gov_10a_main?na_item=TE&precision=1&unit=MIO_EUR&sector=S13'\n",
    "file_name_5 = r'Spending.json'\n",
    "j = jsonstat.download(url_5, file_name_5)\n",
    "collection_5 = jsonstat.from_file('data/Spending.json')\n",
    "spesa = collection_5.dataset('gov_10a_main')\n",
    "# Dimensioni Geo e Time\n",
    "df_spesa = spesa.to_table(content='id',rtype=pd.DataFrame)\n",
    "# Filtro solo 2016\n",
    "df_spesa=df_spesa[(df_spesa['time']=='2016')]\n",
    "\n",
    "df_spesa.rename(columns={'Value': 'Spesa'},inplace=True)\n",
    "df_spesa.drop(columns=['unit','sector','na_item','time'], inplace=True)"
   ]
  },
  {
   "cell_type": "code",
   "execution_count": 26,
   "metadata": {},
   "outputs": [
    {
     "data": {
      "text/html": [
       "<div>\n",
       "<style scoped>\n",
       "    .dataframe tbody tr th:only-of-type {\n",
       "        vertical-align: middle;\n",
       "    }\n",
       "\n",
       "    .dataframe tbody tr th {\n",
       "        vertical-align: top;\n",
       "    }\n",
       "\n",
       "    .dataframe thead th {\n",
       "        text-align: right;\n",
       "    }\n",
       "</style>\n",
       "<table border=\"1\" class=\"dataframe\">\n",
       "  <thead>\n",
       "    <tr style=\"text-align: right;\">\n",
       "      <th></th>\n",
       "      <th>geo</th>\n",
       "      <th>Spesa</th>\n",
       "    </tr>\n",
       "  </thead>\n",
       "  <tbody>\n",
       "    <tr>\n",
       "      <th>1317</th>\n",
       "      <td>IT</td>\n",
       "      <td>828882.0</td>\n",
       "    </tr>\n",
       "  </tbody>\n",
       "</table>\n",
       "</div>"
      ],
      "text/plain": [
       "     geo     Spesa\n",
       "1317  IT  828882.0"
      ]
     },
     "execution_count": 26,
     "metadata": {},
     "output_type": "execute_result"
    }
   ],
   "source": [
    "df_spesa[df_spesa['geo']=='IT']"
   ]
  },
  {
   "cell_type": "code",
   "execution_count": 27,
   "metadata": {},
   "outputs": [],
   "source": [
    "df_all = df_all.set_index(['geo']).join(df_spesa.set_index(['geo'])).join(df_spesa_clima.set_index(['geo'])).reset_index()"
   ]
  },
  {
   "cell_type": "code",
   "execution_count": 28,
   "metadata": {},
   "outputs": [],
   "source": [
    "df_all['perc_spesa'] = df_all['Spesa Clima']/df_all['Spesa']*100 # Spesa per il clima in percentuale sulla spesa totale"
   ]
  },
  {
   "cell_type": "code",
   "execution_count": 29,
   "metadata": {},
   "outputs": [],
   "source": [
    "df_all['perc_spesa'].fillna(0, inplace=True)"
   ]
  },
  {
   "cell_type": "code",
   "execution_count": 95,
   "metadata": {},
   "outputs": [],
   "source": [
    "# Grafico\n",
    "#fig_spesa = perc_spesa(df_all)\n",
    "#py.iplot(fig_spesa, filename = 'perc_spesa')"
   ]
  },
  {
   "cell_type": "code",
   "execution_count": 96,
   "metadata": {},
   "outputs": [
    {
     "data": {
      "text/html": [
       "\n",
       "        <iframe\n",
       "            width=\"750\"\n",
       "            height=\"600\"\n",
       "            src=\"//plot.ly/~andrea.cesarini85/64.embed\"\n",
       "            frameborder=\"0\"\n",
       "            allowfullscreen\n",
       "        ></iframe>\n",
       "        "
      ],
      "text/plain": [
       "<IPython.lib.display.IFrame at 0x7efc815c1518>"
      ]
     },
     "execution_count": 96,
     "metadata": {},
     "output_type": "execute_result"
    }
   ],
   "source": [
    "# Grafico\n",
    "IFrame('//plot.ly/~andrea.cesarini85/64.embed', width=750, height=600)"
   ]
  },
  {
   "cell_type": "code",
   "execution_count": 38,
   "metadata": {},
   "outputs": [
    {
     "data": {
      "text/plain": [
       "11    15.50144\n",
       "Name: Spesa Clima, dtype: float64"
      ]
     },
     "execution_count": 38,
     "metadata": {},
     "output_type": "execute_result"
    }
   ],
   "source": []
  },
  {
   "cell_type": "markdown",
   "metadata": {},
   "source": [
    "#### GX. Matrix Correlation cause dei gas serra"
   ]
  }
 ],
 "metadata": {
  "anaconda-cloud": {},
  "kernelspec": {
   "display_name": "Python 3",
   "language": "python",
   "name": "python3"
  },
  "language_info": {
   "codemirror_mode": {
    "name": "ipython",
    "version": 3
   },
   "file_extension": ".py",
   "mimetype": "text/x-python",
   "name": "python",
   "nbconvert_exporter": "python",
   "pygments_lexer": "ipython3",
   "version": "3.7.0"
  }
 },
 "nbformat": 4,
 "nbformat_minor": 2
}
